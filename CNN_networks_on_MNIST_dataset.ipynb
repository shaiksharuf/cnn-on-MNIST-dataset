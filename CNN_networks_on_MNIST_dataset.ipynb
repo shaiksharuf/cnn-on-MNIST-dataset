{
 "cells": [
  {
   "cell_type": "markdown",
   "metadata": {
    "colab_type": "text",
    "id": "b2zq0sjHayJ6"
   },
   "source": [
    "### CNN networks on MNIST dataset"
   ]
  },
  {
   "cell_type": "code",
   "execution_count": 0,
   "metadata": {
    "colab": {
     "base_uri": "https://localhost:8080/",
     "height": 99
    },
    "colab_type": "code",
    "id": "V8I6hCrma6bO",
    "outputId": "c25a7d35-a7f0-426c-f052-8be613047833"
   },
   "outputs": [
    {
     "name": "stderr",
     "output_type": "stream",
     "text": [
      "Using TensorFlow backend.\n"
     ]
    },
    {
     "data": {
      "text/html": [
       "<p style=\"color: red;\">\n",
       "The default version of TensorFlow in Colab will soon switch to TensorFlow 2.x.<br>\n",
       "We recommend you <a href=\"https://www.tensorflow.org/guide/migrate\" target=\"_blank\">upgrade</a> now \n",
       "or ensure your notebook will continue to use TensorFlow 1.x via the <code>%tensorflow_version 1.x</code> magic:\n",
       "<a href=\"https://colab.research.google.com/notebooks/tensorflow_version.ipynb\" target=\"_blank\">more info</a>.</p>\n"
      ],
      "text/plain": [
       "<IPython.core.display.HTML object>"
      ]
     },
     "metadata": {
      "tags": []
     },
     "output_type": "display_data"
    }
   ],
   "source": [
    "import matplotlib.pyplot as plt\n",
    "from keras.utils import np_utils \n",
    "from keras.datasets import mnist \n",
    "from keras.models import Sequential\n",
    "from keras.layers import Dense, Dropout, Flatten\n",
    "from keras.layers import Conv2D, MaxPooling2D\n",
    "from keras.layers.normalization import BatchNormalization\n",
    "from keras.initializers import he_normal\n",
    "\n",
    "import seaborn as sns\n",
    "import numpy as np\n",
    "import keras"
   ]
  },
  {
   "cell_type": "code",
   "execution_count": 0,
   "metadata": {
    "colab": {
     "base_uri": "https://localhost:8080/",
     "height": 52
    },
    "colab_type": "code",
    "id": "2n6eCZPDbFEs",
    "outputId": "86e7b027-1b2e-4ca4-933b-c2b9c2cb7851"
   },
   "outputs": [
    {
     "name": "stdout",
     "output_type": "stream",
     "text": [
      "Downloading data from https://s3.amazonaws.com/img-datasets/mnist.npz\n",
      "11493376/11490434 [==============================] - 0s 0us/step\n"
     ]
    }
   ],
   "source": [
    "(X_train, y_train), (X_test, y_test) = mnist.load_data()\n",
    "\n",
    "img_rows, img_cols = 28, 28\n"
   ]
  },
  {
   "cell_type": "code",
   "execution_count": 0,
   "metadata": {
    "colab": {
     "base_uri": "https://localhost:8080/",
     "height": 87
    },
    "colab_type": "code",
    "id": "Ju8BrUK-bMuh",
    "outputId": "ff311b5b-94f7-4358-c01e-a263d7a4f0ec"
   },
   "outputs": [
    {
     "name": "stdout",
     "output_type": "stream",
     "text": [
      "Training data shape:  (60000, 28, 28)\n",
      "Test data shape (10000, 28, 28)\n",
      "Training label shape:  (60000,)\n",
      "First 5 training labels:  [5 0 4 1 9]\n"
     ]
    }
   ],
   "source": [
    "print(\"Training data shape: \", X_train.shape) \n",
    "print(\"Test data shape\", X_test.shape)\n",
    "\n",
    "print(\"Training label shape: \", y_train.shape) \n",
    "print(\"First 5 training labels: \", y_train[:5]) "
   ]
  },
  {
   "cell_type": "code",
   "execution_count": 0,
   "metadata": {
    "colab": {},
    "colab_type": "code",
    "id": "vg29Gqv4bSHK"
   },
   "outputs": [],
   "source": [
    "num_classes = 10\n",
    "batch_size = 128\n",
    "epochs = 10"
   ]
  },
  {
   "cell_type": "code",
   "execution_count": 0,
   "metadata": {
    "colab": {
     "base_uri": "https://localhost:8080/",
     "height": 69
    },
    "colab_type": "code",
    "id": "rkz5BRMTbS1h",
    "outputId": "47868bef-c291-45f9-b4ee-3d730f902ac6"
   },
   "outputs": [
    {
     "name": "stdout",
     "output_type": "stream",
     "text": [
      "x_train shape: (60000, 28, 28, 1)\n",
      "60000 train samples\n",
      "10000 test samples\n"
     ]
    }
   ],
   "source": [
    "from keras import backend as K\n",
    "\n",
    "if K.image_data_format() == 'channels_first':\n",
    "    X_train = X_train.reshape(X_train.shape[0], 1, img_rows, img_cols)\n",
    "    X_test = X_test.reshape(X_test.shape[0], 1, img_rows, img_cols)\n",
    "    input_shape = (1, img_rows, img_cols)\n",
    "else:\n",
    "    X_train = X_train.reshape(X_train.shape[0], img_rows, img_cols, 1)\n",
    "    X_test = X_test.reshape(X_test.shape[0], img_rows, img_cols, 1)\n",
    "    input_shape = (img_rows, img_cols, 1)\n",
    "\n",
    "X_train = X_train.astype('float32')\n",
    "X_test = X_test.astype('float32')\n",
    "X_train /= 255\n",
    "X_test /= 255\n",
    "print('x_train shape:', X_train.shape)\n",
    "print(X_train.shape[0], 'train samples')\n",
    "print(X_test.shape[0], 'test samples')"
   ]
  },
  {
   "cell_type": "code",
   "execution_count": 0,
   "metadata": {
    "colab": {},
    "colab_type": "code",
    "id": "RXjsuJ3ebfvG"
   },
   "outputs": [],
   "source": [
    "# convert class vectors to binary class matrices\n",
    "y_train = keras.utils.to_categorical(y_train, num_classes)\n",
    "y_test = keras.utils.to_categorical(y_test, num_classes)"
   ]
  },
  {
   "cell_type": "markdown",
   "metadata": {
    "colab_type": "text",
    "id": "T5FlcxnPcolV"
   },
   "source": [
    " Model 1:CNN with 3 ConvNet & 3x3 kernel size"
   ]
  },
  {
   "cell_type": "code",
   "execution_count": 0,
   "metadata": {
    "colab": {
     "base_uri": "https://localhost:8080/",
     "height": 520
    },
    "colab_type": "code",
    "id": "OLikYVLwcqnW",
    "outputId": "8d68c7c4-31b6-41f9-8e72-931f6a091e71"
   },
   "outputs": [
    {
     "name": "stdout",
     "output_type": "stream",
     "text": [
      "Model: \"sequential_3\"\n",
      "_________________________________________________________________\n",
      "Layer (type)                 Output Shape              Param #   \n",
      "=================================================================\n",
      "conv2d_7 (Conv2D)            (None, 26, 26, 32)        320       \n",
      "_________________________________________________________________\n",
      "conv2d_8 (Conv2D)            (None, 24, 24, 64)        18496     \n",
      "_________________________________________________________________\n",
      "dropout_6 (Dropout)          (None, 24, 24, 64)        0         \n",
      "_________________________________________________________________\n",
      "conv2d_9 (Conv2D)            (None, 22, 22, 128)       73856     \n",
      "_________________________________________________________________\n",
      "max_pooling2d_3 (MaxPooling2 (None, 11, 11, 128)       0         \n",
      "_________________________________________________________________\n",
      "dropout_7 (Dropout)          (None, 11, 11, 128)       0         \n",
      "_________________________________________________________________\n",
      "flatten_3 (Flatten)          (None, 15488)             0         \n",
      "_________________________________________________________________\n",
      "dense_3 (Dense)              (None, 256)               3965184   \n",
      "_________________________________________________________________\n",
      "dropout_8 (Dropout)          (None, 256)               0         \n",
      "_________________________________________________________________\n",
      "dense_4 (Dense)              (None, 10)                2570      \n",
      "=================================================================\n",
      "Total params: 4,060,426\n",
      "Trainable params: 4,060,426\n",
      "Non-trainable params: 0\n",
      "_________________________________________________________________\n",
      "None\n"
     ]
    }
   ],
   "source": [
    "convnet3=Sequential() # Initializing the model\n",
    "\n",
    "# First ConvNet\n",
    "convnet3.add(Conv2D(32,kernel_size=(3,3),\n",
    "                    activation='relu',\n",
    "                    input_shape=input_shape))\n",
    "\n",
    "convnet3.add(Conv2D(64,kernel_size=(3,3),\n",
    "                    activation='relu'))\n",
    "\n",
    "convnet3.add(Dropout(0.25))\n",
    "\n",
    "convnet3.add(Conv2D(128,kernel_size=(3,3),\n",
    "                   activation='relu'))\n",
    "#maxpooling by (2,2 ) ,dropout,flattening\n",
    "convnet3.add(MaxPooling2D(pool_size=(2,2)))\n",
    "convnet3.add(Dropout(0.25))\n",
    "convnet3.add(Flatten())\n",
    "\n",
    "#hidden_layer\n",
    "convnet3.add(Dense(256,\n",
    "                   activation='relu',\n",
    "                   kernel_initializer=he_normal(seed=None)))\n",
    "convnet3.add(Dropout(0.5))\n",
    "convnet3.add(Dense(num_classes,activation='softmax'))\n",
    "print(convnet3.summary())"
   ]
  },
  {
   "cell_type": "code",
   "execution_count": 0,
   "metadata": {
    "colab": {
     "base_uri": "https://localhost:8080/",
     "height": 436
    },
    "colab_type": "code",
    "id": "VUAN0gt3dXoO",
    "outputId": "ec886353-9b07-41a3-a4db-3f0fd9280f74"
   },
   "outputs": [
    {
     "name": "stdout",
     "output_type": "stream",
     "text": [
      "Train on 60000 samples, validate on 10000 samples\n",
      "Epoch 1/10\n",
      "60000/60000 [==============================] - 499s 8ms/step - loss: 0.1778 - acc: 0.9455 - val_loss: 0.0477 - val_acc: 0.9846\n",
      "Epoch 2/10\n",
      "60000/60000 [==============================] - 496s 8ms/step - loss: 0.0620 - acc: 0.9815 - val_loss: 0.0332 - val_acc: 0.9878\n",
      "Epoch 3/10\n",
      "60000/60000 [==============================] - 494s 8ms/step - loss: 0.0439 - acc: 0.9866 - val_loss: 0.0260 - val_acc: 0.9911\n",
      "Epoch 4/10\n",
      "60000/60000 [==============================] - 492s 8ms/step - loss: 0.0376 - acc: 0.9886 - val_loss: 0.0267 - val_acc: 0.9916\n",
      "Epoch 5/10\n",
      "60000/60000 [==============================] - 493s 8ms/step - loss: 0.0291 - acc: 0.9914 - val_loss: 0.0238 - val_acc: 0.9916\n",
      "Epoch 6/10\n",
      "60000/60000 [==============================] - 492s 8ms/step - loss: 0.0259 - acc: 0.9920 - val_loss: 0.0234 - val_acc: 0.9923\n",
      "Epoch 7/10\n",
      "60000/60000 [==============================] - 495s 8ms/step - loss: 0.0212 - acc: 0.9932 - val_loss: 0.0235 - val_acc: 0.9926\n",
      "Epoch 8/10\n",
      "60000/60000 [==============================] - 497s 8ms/step - loss: 0.0202 - acc: 0.9933 - val_loss: 0.0228 - val_acc: 0.9930\n",
      "Epoch 9/10\n",
      "60000/60000 [==============================] - 499s 8ms/step - loss: 0.0199 - acc: 0.9938 - val_loss: 0.0234 - val_acc: 0.9925\n",
      "Epoch 10/10\n",
      "60000/60000 [==============================] - 500s 8ms/step - loss: 0.0162 - acc: 0.9950 - val_loss: 0.0279 - val_acc: 0.9917\n",
      "Test loss: 0.027885543293261435\n",
      "Test accuracy: 0.9917\n"
     ]
    }
   ],
   "source": [
    "#Model compilation\n",
    "convnet3.compile(optimizer=keras.optimizers.Adam(),\n",
    "                loss=keras.losses.categorical_crossentropy,\n",
    "                metrics=['accuracy'])\n",
    "convnet_3=convnet3.fit(X_train,y_train,batch_size=batch_size,\n",
    "                             epochs=epochs,\n",
    "                             verbose=1,\n",
    "                             validation_data=(X_test, y_test))\n",
    "score = convnet3.evaluate(X_test, y_test, verbose=0)\n",
    "print('Test loss:', score[0])\n",
    "print('Test accuracy:', score[1])"
   ]
  },
  {
   "cell_type": "code",
   "execution_count": 0,
   "metadata": {
    "colab": {
     "base_uri": "https://localhost:8080/",
     "height": 279
    },
    "colab_type": "code",
    "id": "cchFYrlee05x",
    "outputId": "14a3c245-39df-493e-a865-8782d9eba8fd"
   },
   "outputs": [
    {
     "data": {
      "image/png": "[encoded data removed]",
      "text/plain": [
       "<Figure size 432x288 with 1 Axes>"
      ]
     },
     "metadata": {
      "tags": []
     },
     "output_type": "display_data"
    }
   ],
   "source": [
    "fig,ax = plt.subplots(1,1)\n",
    "ax.set_xlabel('Epochs') ; ax.set_ylabel('Loss')\n",
    "\n",
    "# list of epoch numbers\n",
    "list_of_epoch = list(range(1,epochs+1))\n",
    "\n",
    "train_loss = convnet_3.history['loss']\n",
    "val_loss = convnet_3.history['val_loss']\n",
    "\n",
    "ax.plot(list_of_epoch, val_loss, 'g', label=\"Validation Loss\")\n",
    "ax.plot(list_of_epoch, train_loss, 'r', label=\"Training Loss\")\n",
    "plt.legend()\n",
    "plt.grid()\n",
    "plt.show();"
   ]
  },
  {
   "cell_type": "markdown",
   "metadata": {
    "colab_type": "text",
    "id": "-DWp1htAft51"
   },
   "source": [
    "Model2:CNN with 5 ConvNet & kernel_size=(5x5)\n",
    "\n",
    "5 convNet followed by maxpooling(2,2) and dropout\n",
    "\n",
    "---\n",
    "\n"
   ]
  },
  {
   "cell_type": "code",
   "execution_count": 0,
   "metadata": {
    "colab": {
     "base_uri": "https://localhost:8080/",
     "height": 797
    },
    "colab_type": "code",
    "id": "ni9WOv4UfsCj",
    "outputId": "8c6cc93b-e4ac-4ab9-dcc1-f8d4f46dd184"
   },
   "outputs": [
    {
     "name": "stdout",
     "output_type": "stream",
     "text": [
      "Model: \"sequential_4\"\n",
      "_________________________________________________________________\n",
      "Layer (type)                 Output Shape              Param #   \n",
      "=================================================================\n",
      "conv2d_10 (Conv2D)           (None, 28, 28, 32)        832       \n",
      "_________________________________________________________________\n",
      "conv2d_11 (Conv2D)           (None, 28, 28, 64)        51264     \n",
      "_________________________________________________________________\n",
      "max_pooling2d_4 (MaxPooling2 (None, 14, 14, 64)        0         \n",
      "_________________________________________________________________\n",
      "dropout_9 (Dropout)          (None, 14, 14, 64)        0         \n",
      "_________________________________________________________________\n",
      "conv2d_12 (Conv2D)           (None, 14, 14, 96)        153696    \n",
      "_________________________________________________________________\n",
      "max_pooling2d_5 (MaxPooling2 (None, 7, 7, 96)          0         \n",
      "_________________________________________________________________\n",
      "dropout_10 (Dropout)         (None, 7, 7, 96)          0         \n",
      "_________________________________________________________________\n",
      "conv2d_13 (Conv2D)           (None, 7, 7, 128)         307328    \n",
      "_________________________________________________________________\n",
      "max_pooling2d_6 (MaxPooling2 (None, 3, 3, 128)         0         \n",
      "_________________________________________________________________\n",
      "dropout_11 (Dropout)         (None, 3, 3, 128)         0         \n",
      "_________________________________________________________________\n",
      "conv2d_14 (Conv2D)           (None, 3, 3, 164)         524964    \n",
      "_________________________________________________________________\n",
      "max_pooling2d_7 (MaxPooling2 (None, 1, 1, 164)         0         \n",
      "_________________________________________________________________\n",
      "dropout_12 (Dropout)         (None, 1, 1, 164)         0         \n",
      "_________________________________________________________________\n",
      "flatten_4 (Flatten)          (None, 164)               0         \n",
      "_________________________________________________________________\n",
      "dense_5 (Dense)              (None, 256)               42240     \n",
      "_________________________________________________________________\n",
      "batch_normalization_1 (Batch (None, 256)               1024      \n",
      "_________________________________________________________________\n",
      "dropout_13 (Dropout)         (None, 256)               0         \n",
      "_________________________________________________________________\n",
      "dense_6 (Dense)              (None, 10)                2570      \n",
      "=================================================================\n",
      "Total params: 1,083,918\n",
      "Trainable params: 1,083,406\n",
      "Non-trainable params: 512\n",
      "_________________________________________________________________\n",
      "None\n"
     ]
    }
   ],
   "source": [
    "convnet5=Sequential() # Initializing the model\n",
    "\n",
    "# First ConvNet\n",
    "convnet5.add(Conv2D(32,kernel_size=(5,5),\n",
    "                    activation='relu',\n",
    "                    padding='same',\n",
    "                    input_shape=input_shape))\n",
    "\n",
    "convnet5.add(Conv2D(64,kernel_size=(5,5),\n",
    "                    padding='same',\n",
    "                    activation='relu'))#Second Convnet\n",
    "convnet5.add(MaxPooling2D(pool_size=(2,2)))\n",
    "convnet5.add(Dropout(0.25))\n",
    "\n",
    "convnet5.add(Conv2D(96,kernel_size=(5,5),\n",
    "                    padding='same',\n",
    "                   activation='relu'))  # 3rd ConvNet\n",
    "#maxpooling by (2,2 ) ,dropout,flattening\n",
    "convnet5.add(MaxPooling2D(pool_size=(2,2)))\n",
    "convnet5.add(Dropout(0.25))\n",
    "\n",
    "convnet5.add(Conv2D(128,kernel_size=(5,5),\n",
    "                    padding='same',\n",
    "                    activation='relu'))#fourth Convnet\n",
    "convnet5.add(MaxPooling2D(pool_size=(2,2)))\n",
    "convnet5.add(Dropout(0.25))\n",
    "convnet5.add(Conv2D(164,kernel_size=(5,5),\n",
    "                    padding='same',\n",
    "                    activation='relu'))#fifth Convnet\n",
    "convnet5.add(MaxPooling2D(pool_size=(2,2)))\n",
    "convnet5.add(Dropout(0.25))\n",
    "convnet5.add(Flatten())\n",
    "\n",
    "#hidden_layer\n",
    "convnet5.add(Dense(256,\n",
    "                   activation='relu',\n",
    "                   kernel_initializer=he_normal(seed=None)))\n",
    "convnet5.add(BatchNormalization())\n",
    "convnet5.add(Dropout(0.5))\n",
    "convnet5.add(Dense(num_classes,activation='softmax'))\n",
    "print(convnet5.summary())"
   ]
  },
  {
   "cell_type": "code",
   "execution_count": 0,
   "metadata": {
    "colab": {
     "base_uri": "https://localhost:8080/",
     "height": 453
    },
    "colab_type": "code",
    "id": "snDNag-JgLZD",
    "outputId": "c7c433e0-b775-4f3b-d6e1-cbb1a0416097"
   },
   "outputs": [
    {
     "name": "stdout",
     "output_type": "stream",
     "text": [
      "Train on 60000 samples, validate on 10000 samples\n",
      "Epoch 1/10\n",
      "60000/60000 [==============================] - 909s 15ms/step - loss: 2.1667 - acc: 0.2810 - val_loss: 1.3325 - val_acc: 0.5119\n",
      "Epoch 2/10\n",
      "60000/60000 [==============================] - 909s 15ms/step - loss: 1.1052 - acc: 0.6127 - val_loss: 0.7686 - val_acc: 0.7257\n",
      "Epoch 3/10\n",
      "60000/60000 [==============================] - 914s 15ms/step - loss: 0.6110 - acc: 0.7982 - val_loss: 0.3284 - val_acc: 0.8985\n",
      "Epoch 4/10\n",
      "60000/60000 [==============================] - 912s 15ms/step - loss: 0.4228 - acc: 0.8671 - val_loss: 0.2286 - val_acc: 0.9257\n",
      "Epoch 5/10\n",
      "60000/60000 [==============================] - 921s 15ms/step - loss: 0.2741 - acc: 0.9180 - val_loss: 0.1281 - val_acc: 0.9592\n",
      "Epoch 6/10\n",
      "60000/60000 [==============================] - 924s 15ms/step - loss: 0.1998 - acc: 0.9416 - val_loss: 0.0939 - val_acc: 0.9702\n",
      "Epoch 7/10\n",
      "60000/60000 [==============================] - 924s 15ms/step - loss: 0.1586 - acc: 0.9529 - val_loss: 0.1761 - val_acc: 0.9442\n",
      "Epoch 8/10\n",
      "60000/60000 [==============================] - 920s 15ms/step - loss: 0.1352 - acc: 0.9600 - val_loss: 0.0541 - val_acc: 0.9837\n",
      "Epoch 9/10\n",
      "60000/60000 [==============================] - 924s 15ms/step - loss: 0.1081 - acc: 0.9680 - val_loss: 0.0536 - val_acc: 0.9833\n",
      "Epoch 10/10\n",
      "60000/60000 [==============================] - 917s 15ms/step - loss: 0.0960 - acc: 0.9718 - val_loss: 0.0410 - val_acc: 0.9869\n",
      "Test loss: 0.040991343469824644\n",
      "Test accuracy: 0.9869\n",
      "Time taken to run this cell : 2:33:29.157051\n"
     ]
    }
   ],
   "source": [
    "#Model compilation\n",
    "from datetime import datetime\n",
    "start = datetime.now()\n",
    "convnet5.compile(optimizer=keras.optimizers.Adam(),\n",
    "                loss=keras.losses.categorical_crossentropy,\n",
    "                metrics=['accuracy'])\n",
    "convnet_5=convnet5.fit(X_train,y_train,batch_size=batch_size,\n",
    "                             epochs=epochs,\n",
    "                             verbose=1,\n",
    "                             validation_data=(X_test, y_test))\n",
    "score = convnet5.evaluate(X_test, y_test, verbose=0)\n",
    "print('Test loss:', score[0])\n",
    "print('Test accuracy:', score[1])\n",
    "print(\"Time taken to run this cell :\", datetime.now() - start)"
   ]
  },
  {
   "cell_type": "code",
   "execution_count": 0,
   "metadata": {
    "colab": {
     "base_uri": "https://localhost:8080/",
     "height": 279
    },
    "colab_type": "code",
    "id": "FWsSihiOgUBy",
    "outputId": "6bb13c72-93c7-45ac-a0d1-76510dbee7e9"
   },
   "outputs": [
    {
     "data": {
      "image/png": "[encoded data removed]",
      "text/plain": [
       "<Figure size 432x288 with 1 Axes>"
      ]
     },
     "metadata": {
      "tags": []
     },
     "output_type": "display_data"
    }
   ],
   "source": [
    "fig,ax = plt.subplots(1,1)\n",
    "ax.set_xlabel('Epochs') ; ax.set_ylabel('Loss')\n",
    "\n",
    "# list of epoch numbers\n",
    "list_of_epoch = list(range(1,epochs+1))\n",
    "\n",
    "train_loss = convnet_5.history['loss']\n",
    "val_loss = convnet_5.history['val_loss']\n",
    "\n",
    "ax.plot(list_of_epoch, val_loss, 'g', label=\"Validation Loss\")\n",
    "ax.plot(list_of_epoch, train_loss, 'r', label=\"Training Loss\")\n",
    "plt.legend()\n",
    "plt.grid()\n",
    "plt.show();"
   ]
  },
  {
   "cell_type": "markdown",
   "metadata": {
    "colab_type": "text",
    "id": "YvChFs6ugsvY"
   },
   "source": [
    "**Model3:CNN with 7 ConvNet & kernel_size=(2x2)**\n"
   ]
  },
  {
   "cell_type": "markdown",
   "metadata": {
    "colab_type": "text",
    "id": "CJ-bYS98ssp7"
   },
   "source": [
    "5 convNet followed by maxpooling(2,2) and dropout"
   ]
  },
  {
   "cell_type": "code",
   "execution_count": 0,
   "metadata": {
    "colab": {
     "base_uri": "https://localhost:8080/",
     "height": 1000
    },
    "colab_type": "code",
    "id": "QETRWElMgrp2",
    "outputId": "d7ea5bc5-cb40-4bc4-89b2-abc01eb5900d"
   },
   "outputs": [
    {
     "name": "stdout",
     "output_type": "stream",
     "text": [
      "WARNING:tensorflow:From /usr/local/lib/python3.6/dist-packages/keras/backend/tensorflow_backend.py:66: The name tf.get_default_graph is deprecated. Please use tf.compat.v1.get_default_graph instead.\n",
      "\n",
      "WARNING:tensorflow:From /usr/local/lib/python3.6/dist-packages/keras/backend/tensorflow_backend.py:541: The name tf.placeholder is deprecated. Please use tf.compat.v1.placeholder instead.\n",
      "\n",
      "WARNING:tensorflow:From /usr/local/lib/python3.6/dist-packages/keras/backend/tensorflow_backend.py:4432: The name tf.random_uniform is deprecated. Please use tf.random.uniform instead.\n",
      "\n",
      "WARNING:tensorflow:From /usr/local/lib/python3.6/dist-packages/keras/backend/tensorflow_backend.py:148: The name tf.placeholder_with_default is deprecated. Please use tf.compat.v1.placeholder_with_default instead.\n",
      "\n",
      "WARNING:tensorflow:From /usr/local/lib/python3.6/dist-packages/keras/backend/tensorflow_backend.py:3733: calling dropout (from tensorflow.python.ops.nn_ops) with keep_prob is deprecated and will be removed in a future version.\n",
      "Instructions for updating:\n",
      "Please use `rate` instead of `keep_prob`. Rate should be set to `rate = 1 - keep_prob`.\n",
      "WARNING:tensorflow:From /usr/local/lib/python3.6/dist-packages/keras/backend/tensorflow_backend.py:4267: The name tf.nn.max_pool is deprecated. Please use tf.nn.max_pool2d instead.\n",
      "\n",
      "WARNING:tensorflow:From /usr/local/lib/python3.6/dist-packages/keras/backend/tensorflow_backend.py:4479: The name tf.truncated_normal is deprecated. Please use tf.random.truncated_normal instead.\n",
      "\n",
      "Model: \"sequential_1\"\n",
      "_________________________________________________________________\n",
      "Layer (type)                 Output Shape              Param #   \n",
      "=================================================================\n",
      "conv2d_1 (Conv2D)            (None, 28, 28, 16)        80        \n",
      "_________________________________________________________________\n",
      "conv2d_2 (Conv2D)            (None, 14, 14, 32)        2080      \n",
      "_________________________________________________________________\n",
      "conv2d_3 (Conv2D)            (None, 14, 14, 64)        8256      \n",
      "_________________________________________________________________\n",
      "dropout_1 (Dropout)          (None, 14, 14, 64)        0         \n",
      "_________________________________________________________________\n",
      "conv2d_4 (Conv2D)            (None, 14, 14, 96)        24672     \n",
      "_________________________________________________________________\n",
      "max_pooling2d_1 (MaxPooling2 (None, 7, 7, 96)          0         \n",
      "_________________________________________________________________\n",
      "dropout_2 (Dropout)          (None, 7, 7, 96)          0         \n",
      "_________________________________________________________________\n",
      "conv2d_5 (Conv2D)            (None, 7, 7, 128)         49280     \n",
      "_________________________________________________________________\n",
      "max_pooling2d_2 (MaxPooling2 (None, 3, 3, 128)         0         \n",
      "_________________________________________________________________\n",
      "dropout_3 (Dropout)          (None, 3, 3, 128)         0         \n",
      "_________________________________________________________________\n",
      "conv2d_6 (Conv2D)            (None, 3, 3, 164)         84132     \n",
      "_________________________________________________________________\n",
      "conv2d_7 (Conv2D)            (None, 3, 3, 164)         107748    \n",
      "_________________________________________________________________\n",
      "max_pooling2d_3 (MaxPooling2 (None, 1, 1, 164)         0         \n",
      "_________________________________________________________________\n",
      "dropout_4 (Dropout)          (None, 1, 1, 164)         0         \n",
      "_________________________________________________________________\n",
      "flatten_1 (Flatten)          (None, 164)               0         \n",
      "_________________________________________________________________\n",
      "dense_1 (Dense)              (None, 256)               42240     \n",
      "_________________________________________________________________\n",
      "batch_normalization_1 (Batch (None, 256)               1024      \n",
      "_________________________________________________________________\n",
      "dropout_5 (Dropout)          (None, 256)               0         \n",
      "_________________________________________________________________\n",
      "dense_2 (Dense)              (None, 148)               38036     \n",
      "_________________________________________________________________\n",
      "batch_normalization_2 (Batch (None, 148)               592       \n",
      "_________________________________________________________________\n",
      "dropout_6 (Dropout)          (None, 148)               0         \n",
      "_________________________________________________________________\n",
      "dense_3 (Dense)              (None, 128)               19072     \n",
      "_________________________________________________________________\n",
      "batch_normalization_3 (Batch (None, 128)               512       \n",
      "_________________________________________________________________\n",
      "dropout_7 (Dropout)          (None, 128)               0         \n",
      "_________________________________________________________________\n",
      "dense_4 (Dense)              (None, 10)                1290      \n",
      "=================================================================\n",
      "Total params: 379,014\n",
      "Trainable params: 377,950\n",
      "Non-trainable params: 1,064\n",
      "_________________________________________________________________\n",
      "None\n"
     ]
    }
   ],
   "source": [
    "convnet7=Sequential() # Initializing the model\n",
    "\n",
    "# First ConvNet\n",
    "convnet7.add(Conv2D(16,kernel_size=(2,2),\n",
    "                    activation='relu',\n",
    "                    padding='same',strides=(1,1),\n",
    "                    input_shape=input_shape))\n",
    "\n",
    "\n",
    "convnet7.add(Conv2D(32,kernel_size=(2,2),\n",
    "                    padding='same',strides=(2,2),\n",
    "                    activation='relu'))#Second Convnet\n",
    "#convnet7.add(MaxPooling2D(pool_size=(2,2)))\n",
    "#convnet7.add(Dropout(0.25))\n",
    "\n",
    "convnet7.add(Conv2D(64,kernel_size=(2,2),\n",
    "                    padding='same',\n",
    "                   activation='relu'))  # 3rd ConvNet\n",
    "#maxpooling by (2,2 ) ,dropout,flattening\n",
    "#convnet7.add(MaxPooling2D(pool_size=(2,2)))\n",
    "convnet7.add(Dropout(0.15))\n",
    "\n",
    "convnet7.add(Conv2D(96,kernel_size=(2,2),\n",
    "                    padding='same',\n",
    "                    activation='relu'))#fourth Convnet\n",
    "convnet7.add(MaxPooling2D(pool_size=(2,2)))\n",
    "convnet7.add(Dropout(0.39))\n",
    "convnet7.add(Conv2D(128,kernel_size=(2,2),\n",
    "                    padding='same',\n",
    "                    activation='relu'))#fifth Convnet\n",
    "convnet7.add(MaxPooling2D(pool_size=(2,2)))\n",
    "convnet7.add(Dropout(0.3))\n",
    "convnet7.add(Conv2D(164,kernel_size=(2,2),\n",
    "                    padding='same',\n",
    "                    activation='relu'))#sixth Convnet\n",
    "convnet7.add(Conv2D(164,kernel_size=(2,2),\n",
    "                    padding='same',strides=(1,1),\n",
    "                    activation='relu'))#seventh Convnet\n",
    "\n",
    "convnet7.add(MaxPooling2D(pool_size=(2,2)))\n",
    "convnet7.add(Dropout(0.4))\n",
    "convnet7.add(Flatten())\n",
    "\n",
    "#hidden_layer\n",
    "convnet7.add(Dense(256,\n",
    "                   activation='relu',\n",
    "                   kernel_initializer=he_normal(seed=None)))#1 hidden layer\n",
    "convnet7.add(BatchNormalization())\n",
    "convnet7.add(Dropout(0.5))\n",
    "convnet7.add(Dense(148,\n",
    "                   activation='relu',\n",
    "                   kernel_initializer=he_normal(seed=None)))#2 hidden layer\n",
    "convnet7.add(BatchNormalization())\n",
    "convnet7.add(Dropout(0.5))\n",
    "convnet7.add(Dense(128,\n",
    "                   activation='relu',\n",
    "                   kernel_initializer=he_normal(seed=None)))#3 hidden layer\n",
    "convnet7.add(BatchNormalization())\n",
    "convnet7.add(Dropout(0.5))\n",
    "convnet7.add(Dense(num_classes,activation='softmax'))\n",
    "print(convnet7.summary())"
   ]
  },
  {
   "cell_type": "code",
   "execution_count": 0,
   "metadata": {
    "colab": {
     "base_uri": "https://localhost:8080/",
     "height": 783
    },
    "colab_type": "code",
    "id": "REdBbj2-hHTA",
    "outputId": "effd4a58-768a-42a3-b758-88c977c8d4b5"
   },
   "outputs": [
    {
     "name": "stdout",
     "output_type": "stream",
     "text": [
      "WARNING:tensorflow:From /tensorflow-1.15.0/python3.6/tensorflow_core/python/ops/math_grad.py:1424: where (from tensorflow.python.ops.array_ops) is deprecated and will be removed in a future version.\n",
      "Instructions for updating:\n",
      "Use tf.where in 2.0, which has the same broadcast rule as np.where\n",
      "WARNING:tensorflow:From /usr/local/lib/python3.6/dist-packages/keras/backend/tensorflow_backend.py:1033: The name tf.assign_add is deprecated. Please use tf.compat.v1.assign_add instead.\n",
      "\n",
      "WARNING:tensorflow:From /usr/local/lib/python3.6/dist-packages/keras/backend/tensorflow_backend.py:1020: The name tf.assign is deprecated. Please use tf.compat.v1.assign instead.\n",
      "\n",
      "WARNING:tensorflow:From /usr/local/lib/python3.6/dist-packages/keras/backend/tensorflow_backend.py:3005: The name tf.Session is deprecated. Please use tf.compat.v1.Session instead.\n",
      "\n",
      "Train on 60000 samples, validate on 10000 samples\n",
      "Epoch 1/10\n",
      "WARNING:tensorflow:From /usr/local/lib/python3.6/dist-packages/keras/backend/tensorflow_backend.py:190: The name tf.get_default_session is deprecated. Please use tf.compat.v1.get_default_session instead.\n",
      "\n",
      "WARNING:tensorflow:From /usr/local/lib/python3.6/dist-packages/keras/backend/tensorflow_backend.py:197: The name tf.ConfigProto is deprecated. Please use tf.compat.v1.ConfigProto instead.\n",
      "\n",
      "WARNING:tensorflow:From /usr/local/lib/python3.6/dist-packages/keras/backend/tensorflow_backend.py:207: The name tf.global_variables is deprecated. Please use tf.compat.v1.global_variables instead.\n",
      "\n",
      "WARNING:tensorflow:From /usr/local/lib/python3.6/dist-packages/keras/backend/tensorflow_backend.py:216: The name tf.is_variable_initialized is deprecated. Please use tf.compat.v1.is_variable_initialized instead.\n",
      "\n",
      "WARNING:tensorflow:From /usr/local/lib/python3.6/dist-packages/keras/backend/tensorflow_backend.py:223: The name tf.variables_initializer is deprecated. Please use tf.compat.v1.variables_initializer instead.\n",
      "\n",
      "60000/60000 [==============================] - 139s 2ms/step - loss: 1.9793 - acc: 0.3450 - val_loss: 1.4521 - val_acc: 0.4926\n",
      "Epoch 2/10\n",
      "60000/60000 [==============================] - 135s 2ms/step - loss: 0.5178 - acc: 0.8413 - val_loss: 0.0957 - val_acc: 0.9722\n",
      "Epoch 3/10\n",
      "60000/60000 [==============================] - 135s 2ms/step - loss: 0.2094 - acc: 0.9445 - val_loss: 0.0666 - val_acc: 0.9812\n",
      "Epoch 4/10\n",
      "60000/60000 [==============================] - 134s 2ms/step - loss: 0.1483 - acc: 0.9623 - val_loss: 0.0482 - val_acc: 0.9874\n",
      "Epoch 5/10\n",
      "60000/60000 [==============================] - 135s 2ms/step - loss: 0.1184 - acc: 0.9712 - val_loss: 0.0400 - val_acc: 0.9891\n",
      "Epoch 6/10\n",
      "60000/60000 [==============================] - 134s 2ms/step - loss: 0.1035 - acc: 0.9748 - val_loss: 0.0347 - val_acc: 0.9911\n",
      "Epoch 7/10\n",
      "60000/60000 [==============================] - 134s 2ms/step - loss: 0.0924 - acc: 0.9767 - val_loss: 0.0399 - val_acc: 0.9900\n",
      "Epoch 8/10\n",
      "60000/60000 [==============================] - 134s 2ms/step - loss: 0.0829 - acc: 0.9797 - val_loss: 0.0253 - val_acc: 0.9936\n",
      "Epoch 9/10\n",
      "60000/60000 [==============================] - 134s 2ms/step - loss: 0.0753 - acc: 0.9819 - val_loss: 0.0307 - val_acc: 0.9917\n",
      "Epoch 10/10\n",
      "60000/60000 [==============================] - 134s 2ms/step - loss: 0.0707 - acc: 0.9834 - val_loss: 0.0309 - val_acc: 0.9924\n",
      "Test loss: 0.030946802491589914\n",
      "Test accuracy: 0.9924\n",
      "Time taken to run this cell : 0:22:34.258270\n"
     ]
    }
   ],
   "source": [
    "#Model compilation\n",
    "from datetime import datetime\n",
    "start=datetime.now()\n",
    "convnet7.compile(optimizer=keras.optimizers.Adam(),\n",
    "                loss=keras.losses.categorical_crossentropy,\n",
    "                metrics=['accuracy'])\n",
    "convnet7_history=convnet7.fit(X_train,y_train,batch_size=batch_size,\n",
    "                             epochs=epochs,\n",
    "                             verbose=1,\n",
    "                             validation_data=(X_test, y_test))\n",
    "score = convnet7.evaluate(X_test, y_test, verbose=0)\n",
    "print('Test loss:', score[0])\n",
    "print('Test accuracy:', score[1])\n",
    "print(\"Time taken to run this cell :\", datetime.now() - start)"
   ]
  },
  {
   "cell_type": "code",
   "execution_count": 0,
   "metadata": {
    "colab": {
     "base_uri": "https://localhost:8080/",
     "height": 279
    },
    "colab_type": "code",
    "id": "UuzuRUGnhMLF",
    "outputId": "c433ff2a-7b4f-4bee-d1a1-15d0249f836a"
   },
   "outputs": [
    {
     "data": {
      "image/png": "[encoded data removed]",
      "text/plain": [
       "<Figure size 432x288 with 1 Axes>"
      ]
     },
     "metadata": {
      "tags": []
     },
     "output_type": "display_data"
    }
   ],
   "source": [
    "fig,ax = plt.subplots(1,1)\n",
    "ax.set_xlabel('Epochs') ; ax.set_ylabel('Loss')\n",
    "\n",
    "# list of epoch numbers\n",
    "list_of_epoch = list(range(1,epochs+1))\n",
    "\n",
    "train_loss = convnet7_history.history['loss']\n",
    "val_loss = convnet7_history.history['val_loss']\n",
    "\n",
    "ax.plot(list_of_epoch, val_loss, 'g', label=\"Validation Loss\")\n",
    "ax.plot(list_of_epoch, train_loss, 'r', label=\"Training Loss\")\n",
    "plt.legend()\n",
    "plt.grid()\n",
    "plt.show();"
   ]
  },
  {
   "cell_type": "markdown",
   "metadata": {
    "colab_type": "text",
    "id": "HXWuyn6WqNs-"
   },
   "source": [
    "**Summary**"
   ]
  },
  {
   "cell_type": "code",
   "execution_count": 0,
   "metadata": {
    "colab": {
     "base_uri": "https://localhost:8080/",
     "height": 139
    },
    "colab_type": "code",
    "id": "Qvf5Z5z0hHpJ",
    "outputId": "b3a6d2ab-90c9-4d4d-9756-e9046d6d8609"
   },
   "outputs": [
    {
     "name": "stdout",
     "output_type": "stream",
     "text": [
      "+--------------------------------------+-------------------+------------------+\n",
      "|              MODEL_NAME              | TRAINING ACCURACY | TESTING ACCURACY |\n",
      "+--------------------------------------+-------------------+------------------+\n",
      "| Cnn with 3 convnet & 3x3 kernel size |       0.995       |      0.9917      |\n",
      "| Cnn with 5 convnet & 5x5 kernel size |       0.9718      |       9869       |\n",
      "| Cnn with 7 convnet & 2x2 Kernel size |       0.9834      |      0.9924      |\n",
      "+--------------------------------------+-------------------+------------------+\n"
     ]
    }
   ],
   "source": [
    "from prettytable import PrettyTable\n",
    "x = PrettyTable()\n",
    "x.field_names = [\"MODEL_NAME\",\"TRAINING ACCURACY\",\"TESTING ACCURACY\"]\n",
    "x.add_row([\"Cnn with 3 convnet & 3x3 kernel size\", 0.9950, 0.9917])\n",
    "x.add_row([\"Cnn with 5 convnet & 5x5 kernel size\", 0.9718, 9869])\n",
    "x.add_row([\"Cnn with 7 convnet & 2x2 Kernel size\",0.9834, 0.9924])\n",
    "\n",
    "print(x)"
   ]
  },
  {
   "cell_type": "code",
   "execution_count": 0,
   "metadata": {
    "colab": {},
    "colab_type": "code",
    "id": "abousacPgsJb"
   },
   "outputs": [],
   "source": []
  }
 ],
 "metadata": {
  "colab": {
   "collapsed_sections": [],
   "name": " CNN networks on MNIST dataset.ipynb",
   "provenance": []
  },
  "kernelspec": {
   "display_name": "Python 3",
   "language": "python",
   "name": "python3"
  },
  "language_info": {
   "codemirror_mode": {
    "name": "ipython",
    "version": 3
   },
   "file_extension": ".py",
   "mimetype": "text/x-python",
   "name": "python",
   "nbconvert_exporter": "python",
   "pygments_lexer": "ipython3",
   "version": "3.6.5"
  }
 },
 "nbformat": 4,
 "nbformat_minor": 1
}
